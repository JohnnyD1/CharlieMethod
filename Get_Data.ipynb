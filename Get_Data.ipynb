{
 "cells": [
  {
   "cell_type": "code",
   "execution_count": 1,
   "metadata": {},
   "outputs": [],
   "source": [
    "import os\n",
    "from selenium import webdriver"
   ]
  },
  {
   "cell_type": "code",
   "execution_count": null,
   "metadata": {},
   "outputs": [],
   "source": [
    "import pandas as pd\n",
    "data = pd.read_html('https://en.wikipedia.org/wiki/List_of_S%26P_500_companies')\n",
    "table = data[0]\n",
    "\n",
    "data_cleaned = table[['Symbol','GICS Sector','GICS Sub Industry','CIK','Founded']]\n",
    "\n",
    "\n",
    "tickers = data_cleaned['Symbol'].tolist()"
   ]
  },
  {
   "cell_type": "code",
   "execution_count": null,
   "metadata": {},
   "outputs": [],
   "source": [
    "import random\n",
    "rand_vals = random.sample(range(0,500), 50)\n",
    "\n",
    "stocks50 = []\n",
    "\n",
    "for i in rand_vals:\n",
    "\tstocks50.append(tickers[i])"
   ]
  },
  {
   "cell_type": "code",
   "execution_count": 2,
   "metadata": {},
   "outputs": [],
   "source": [
    "# change stocks50 here\n",
    "stocks50 = ['DIS']"
   ]
  },
  {
   "cell_type": "code",
   "execution_count": 4,
   "metadata": {},
   "outputs": [],
   "source": [
    "browser = webdriver.Chrome(executable_path = \"/usr/local/bin/chromedriver\")\n",
    "browser.get('http://www.stockcharts.com/')\n",
    "\n",
    "python_button = browser.find_element_by_id(\"nav-loginBtn\")\n",
    "python_button.click()\n",
    "\n",
    "\n",
    "username = browser.find_element_by_id(\"form_UserID\")\n",
    "password = browser.find_element_by_name(\"form_UserPassword\")\n",
    "\n",
    "username.send_keys(\"cse-woo5@buffalo.edu\")\n",
    "password.send_keys(\"ZOOM-JASON-789\")\n",
    "\n",
    "browser.find_element_by_css_selector('.btn.btn-lg.btn-success.btn-block.login-panel-button').click()\n",
    "\n",
    "\n",
    "browser.find_element_by_partial_link_text('Charts & Tools').click()\n",
    "\n",
    "\n",
    "browser.find_element_by_xpath('//*[@id=\"pnfsearch\"]/div/span/button').click()\n",
    "\n",
    "\n",
    "# this is where we get data from each ticker\n",
    "for ticker in stocks50:\n",
    "\n",
    "\tinput_asset = browser.find_element_by_xpath('//*[@id=\"SCForm1-ticker\"]')\n",
    "\tinput_asset.send_keys(ticker)\n",
    "\tbrowser.find_element_by_xpath('//*[@id=\"SCForm1\"]/div[1]/div/table/tbody/tr[1]/td[3]/input').click()\n",
    "\tbrowser.find_element_by_xpath('//*[@id=\"sharpCharts2\"]/div[1]/div/table/tbody/tr/td[4]/a').click()\n",
    "\tdata=browser.find_element_by_tag_name(\"pre\").text\n",
    "\n",
    "\twith open(\"stocks/\"+ticker+\".txt\", \"w\") as f:\n",
    "\t\tf.write(data)\t\t\n",
    "\tbrowser.find_element_by_xpath('//*[@id=\"navbar-menuCollapse\"]/ul[1]/li[1]/a').click()\n",
    "\tbrowser.find_element_by_xpath('//*[@id=\"pnfsearch\"]/div/span/button').click()\n"
   ]
  },
  {
   "cell_type": "code",
   "execution_count": 10,
   "metadata": {},
   "outputs": [],
   "source": [
    "# cleaning data/converting to csv\n",
    "import pandas as pd\n",
    "import sys\n",
    "from io import StringIO"
   ]
  },
  {
   "cell_type": "code",
   "execution_count": 11,
   "metadata": {},
   "outputs": [],
   "source": [
    "def get_csv_data(fileName):\n",
    "\n",
    "\tdata = None\n",
    "\n",
    "\twith open('stocks/'+fileName,'r') as f:\n",
    "\t\tdata = f.read()\n",
    "\n",
    "\n",
    "\tsp = data.split('\\n')\n",
    "\t#for line in sp:\n",
    "\t#\tprint(line)\n",
    "\n",
    "\t# get ticker name\n",
    "\tticker = sp[0].split(',')[0]\n",
    "\n",
    "\t# so hacky\n",
    "\tfeatures = sp[1].split('      ')[1:6]\n",
    "#\tprint(features)\n",
    "\tdate_ = []\n",
    "\topen_ = []\n",
    "\thigh_ = []\n",
    "\tlow_ = []\n",
    "\tclose_ = []\n",
    "\n",
    "#\tprint(features)\n",
    "\n",
    "\tfor line in reversed(sp[3:]):\n",
    "\t\ttry:\n",
    "\t\t\tvalues = line.split()\n",
    "\t\t\tdate_.append(values[1])\n",
    "\t\t\topen_.append(values[2])\n",
    "\t\t\thigh_.append(values[3])\n",
    "\t\t\tlow_.append(values[4])\n",
    "\t\t\tclose_.append(values[5])\n",
    "\t\texcept:\n",
    "\t\t\tcontinue\n",
    "\n",
    "\tdf = {'date' : date_, 'open' : open_, 'high' : high_, 'low' : low_, 'close' : close_}\n",
    "\tdf = pd.DataFrame(data=df)\n",
    "\tdf.to_csv('data/'+ticker+'.csv')\n"
   ]
  },
  {
   "cell_type": "code",
   "execution_count": 12,
   "metadata": {},
   "outputs": [],
   "source": [
    "# test single stock\n",
    "import os\n",
    "get_csv_data('AAPL.txt')"
   ]
  },
  {
   "cell_type": "code",
   "execution_count": 9,
   "metadata": {},
   "outputs": [],
   "source": [
    "\n",
    "# import os\n",
    "# for filename in os.listdir('stocks/'):\n",
    "# \tget_csv_data(filename)\n",
    "\t"
   ]
  },
  {
   "cell_type": "code",
   "execution_count": null,
   "metadata": {},
   "outputs": [],
   "source": []
  }
 ],
 "metadata": {
  "kernelspec": {
   "display_name": "Python 3",
   "language": "python",
   "name": "python3"
  },
  "language_info": {
   "codemirror_mode": {
    "name": "ipython",
    "version": 3
   },
   "file_extension": ".py",
   "mimetype": "text/x-python",
   "name": "python",
   "nbconvert_exporter": "python",
   "pygments_lexer": "ipython3",
   "version": "3.7.3"
  }
 },
 "nbformat": 4,
 "nbformat_minor": 2
}
