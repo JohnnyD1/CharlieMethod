{
 "cells": [
  {
   "cell_type": "code",
   "execution_count": 20,
   "metadata": {},
   "outputs": [],
   "source": [
    "# call \n",
    "import numpy as np\n",
    "import pandas as pd\n",
    "import sys\n",
    "import datetime"
   ]
  },
  {
   "cell_type": "code",
   "execution_count": 21,
   "metadata": {},
   "outputs": [],
   "source": [
    "def rating(ma_short, ma_median, ma_long):\n",
    "    # Rate the stocks by 3 MAs.\n",
    "    if ma_short >= ma_median and ma_median >= ma_long:\n",
    "        rating = 1\n",
    "    elif ma_median > ma_short and ma_short >= ma_long:\n",
    "        rating = 2\n",
    "    elif ma_median >= ma_long and ma_long > ma_short:\n",
    "        rating = 3\n",
    "    elif ma_long > ma_median and ma_median > ma_short:\n",
    "        rating = 4\n",
    "    elif ma_long > ma_short and ma_short >= ma_median:\n",
    "        rating = 5\n",
    "    #elif ma_short >= ma_long and ma_long > ma_median:\n",
    "    #    rating = 6\n",
    "    else: \n",
    "        rating = 6\n",
    "        \n",
    "    return rating"
   ]
  },
  {
   "cell_type": "code",
   "execution_count": 22,
   "metadata": {},
   "outputs": [],
   "source": [
    "# def getIncrementalRatings(frequency, d):\n",
    "#     section = 0\n",
    "#     if frequency == 'w':\n",
    "#         # can fix later to have it be exact week\n",
    "#         section = 7\n",
    "#     elif frequency == 'm':\n",
    "#         # can fix later to have it be exact months\n",
    "#         section = 30\n",
    "#     else:\n",
    "#         section = 365\n",
    "    \n",
    "#     assets = []\n",
    "    \n",
    "#     # get ratings in incremental orders\n",
    "#     #print(len(d[0]))\n",
    "#     #print(d[0])\n",
    "# #    return\n",
    "# #    for company in d:\n",
    "        \n",
    "#     assets.append(d.iloc[range(0, len(d), section)])\n",
    "        \n",
    "#     #print(assets)\n",
    "#     return assets"
   ]
  },
  {
   "cell_type": "code",
   "execution_count": 23,
   "metadata": {},
   "outputs": [],
   "source": [
    "def date2Days(date):\n",
    "    # format is string xx-xx-xxxx\n",
    "    #print(date)\n",
    "    comp = date.split('-')\n",
    "    day = 0\n",
    "    day += (int(comp[2]) * 365)\n",
    "    day += (int(comp[1]) * 30)\n",
    "    day += (int(comp[0]))\n",
    "    # should really be subtracting 1 from the month, but it really doesn't matter\n",
    "    #print(day)\n",
    "    return day"
   ]
  },
  {
   "cell_type": "code",
   "execution_count": 24,
   "metadata": {},
   "outputs": [],
   "source": [
    "def getFrequencyRange(data, frequency, start_idx, end_idx):\n",
    "    sub_indices = [start_idx]\n",
    "    freq = 1\n",
    "    if frequency == 'w':\n",
    "        # can fix later to have it be exact week\n",
    "        freq = 7\n",
    "    elif frequency == 'm':\n",
    "        # can fix later to have it be exact months\n",
    "        freq = 30\n",
    "    elif frequency == 'y':\n",
    "        freq = 365\n",
    "    # get the subset of data based on days, weeks, months, or years\n",
    "    \n",
    "    cur_day = date2Days(data.iloc[start_idx]['date'])\n",
    "    \n",
    "    for i in range(start_idx+1, end_idx+1):\n",
    "        if date2Days(data.iloc[i]['date']) >= (cur_day+freq):\n",
    "            sub_indices.append(i)\n",
    "            cur_day = date2Days(data.iloc[i]['date'])\n",
    "    #print(sub_indices)\n",
    "    return sub_indices"
   ]
  },
  {
   "cell_type": "code",
   "execution_count": 29,
   "metadata": {},
   "outputs": [],
   "source": [
    "# need to pass in start and end data frequency (d= days, w=weeks, m=months, y=years) and list of companies\n",
    "def get_MA_Ratings(MA):\n",
    "\n",
    "        # get time period\n",
    "#    MA = pd.DataFrame(full_data.iloc[getFrequencyRange(full_data, frequency, start_index, end_index)], columns=['adj_close','date'])\n",
    "    #print(MA)\n",
    "    \n",
    "\n",
    "        # round to whole number\n",
    "    MA['Price'] = np.round(MA['close'])\n",
    "\n",
    "\n",
    "    MA['20d'] = np.round(MA['close'].rolling(window =20, center = False).mean(),2)\n",
    "        #print(MA.tail())\n",
    "\n",
    "    MA['50d'] = np.round(MA['close'].rolling(window =50, center = False).mean(),2)\n",
    "        #print(MA.tail())\n",
    "\n",
    "    MA['200d'] = np.round(MA['close'].rolling(window =200, center = False).mean(),2)\n",
    "        #print(MA.tail())\n",
    "\n",
    "    MA['SMA_rating'] = MA.apply(lambda x: rating(x['Price'], x['50d'], x['200d']), axis=1)\n",
    "    MA = pd.DataFrame(MA, columns=['date','SMA_rating'])\n",
    "    return MA\n",
    "#    return MA[MA['date'].isin(query_list)]\n",
    "\n"
   ]
  },
  {
   "cell_type": "code",
   "execution_count": 31,
   "metadata": {},
   "outputs": [],
   "source": [
    "# testing\n",
    "#d = pd.read_csv('data/V.csv')\n",
    "#d = get_MA_Ratings(d)\n",
    "#print(d)"
   ]
  },
  {
   "cell_type": "code",
   "execution_count": 33,
   "metadata": {},
   "outputs": [],
   "source": [
    "# for i in range(len(d)):\n",
    "#     print(d.iloc[i])\n",
    "#d"
   ]
  },
  {
   "cell_type": "code",
   "execution_count": null,
   "metadata": {},
   "outputs": [],
   "source": []
  }
 ],
 "metadata": {
  "kernelspec": {
   "display_name": "Python 3",
   "language": "python",
   "name": "python3"
  },
  "language_info": {
   "codemirror_mode": {
    "name": "ipython",
    "version": 3
   },
   "file_extension": ".py",
   "mimetype": "text/x-python",
   "name": "python",
   "nbconvert_exporter": "python",
   "pygments_lexer": "ipython3",
   "version": "3.7.3"
  }
 },
 "nbformat": 4,
 "nbformat_minor": 2
}
