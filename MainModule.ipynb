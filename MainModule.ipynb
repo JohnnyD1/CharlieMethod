{
 "cells": [
  {
   "cell_type": "code",
   "execution_count": 1,
   "metadata": {},
   "outputs": [],
   "source": [
    "import sys\n",
    "#from GetTickerCSV import get_combined_daily_ts\n",
    "from MovingAveragesRating import get_MA_Ratings\n",
    "from PointFigureRating_HLv3 import get_PF_Ratings\n",
    "import pandas as pd\n",
    "import os"
   ]
  },
  {
   "cell_type": "code",
   "execution_count": 3,
   "metadata": {},
   "outputs": [
    {
     "name": "stdout",
     "output_type": "stream",
     "text": [
      "1 AAPL done\n"
     ]
    }
   ],
   "source": [
    "import csv\n",
    "import os\n",
    "files = os.listdir(\"data\")\n",
    "#print(files)\n",
    "df = None\n",
    "#outputfile = 'results/output.csv'\n",
    "outputfile = 'results/aapl_output.csv'\n",
    "files = ['AAPL.csv']\n",
    "features = ['date','SMA_rating','PF_rating','high','close','asset','returns']\n",
    "with open(outputfile,'a') as f:\n",
    "    writer = csv.writer(f)\n",
    "    writer.writerow(features)\n",
    "\n",
    "# here's the magic\n",
    "inc = 1\n",
    "\n",
    "for fl in files:\n",
    "\n",
    "    df_temp = pd.read_csv('data/'+fl)\n",
    "\n",
    "    ma_results = get_MA_Ratings(df_temp)\n",
    "#    print(ma_results)\n",
    "    pf_results = get_PF_Ratings(df_temp,os.path.splitext(fl)[0])\n",
    "#    print(pf_results)\n",
    "    ma_results['PF_rating'] = pf_results['PF_rating']\n",
    "\n",
    "    ma_results['high'] = pf_results['high']\n",
    "    ma_results['close'] = pf_results['close']\n",
    "    ma_results['asset'] = os.path.splitext(fl)[0]\n",
    "    ma_results['returns'] = ma_results['close'].diff()\n",
    "    with open(outputfile,'a') as f:\n",
    "        ma_results.to_csv(f, header=False)\n",
    "        \n",
    "    #results.append(ma_results)\n",
    "    print(str(inc)+' '+ma_results['asset'].iloc[0]+' done')\n",
    "    inc += 1\n",
    " \n",
    "    "
   ]
  },
  {
   "cell_type": "code",
   "execution_count": 10,
   "metadata": {},
   "outputs": [],
   "source": [
    "#import pandas as pd\n",
    "#df = pd.read_csv(fileNames[1])"
   ]
  }
 ],
 "metadata": {
  "kernelspec": {
   "display_name": "Python 3",
   "language": "python",
   "name": "python3"
  },
  "language_info": {
   "codemirror_mode": {
    "name": "ipython",
    "version": 3
   },
   "file_extension": ".py",
   "mimetype": "text/x-python",
   "name": "python",
   "nbconvert_exporter": "python",
   "pygments_lexer": "ipython3",
   "version": "3.7.3"
  }
 },
 "nbformat": 4,
 "nbformat_minor": 2
}
